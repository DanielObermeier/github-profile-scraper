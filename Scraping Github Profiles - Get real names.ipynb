{
 "cells": [
  {
   "cell_type": "markdown",
   "metadata": {},
   "source": [
    "# Scraper - Github Repo - Get Real User Names"
   ]
  },
  {
   "cell_type": "markdown",
   "metadata": {},
   "source": [
    "This skript takes a csv file containing login names of github users, adds the real user names by an API request and saves it as json file.\n",
    "\n",
    "To do so, the file proceeds in 2 steps:\n",
    "\n",
    "1. It imports a csv file and saves it as json \n",
    "2. It iterates through the json file, requests the real user names from the Github API and appends the json file.\n",
    "\n",
    "The skript save all results every 5000 user names. \n",
    "After a restart it checks which users already have been queried and continues. \n",
    "\n",
    "To run this file you need three Github API usernames and tokens in order to avaid API limit issues. "
   ]
  },
  {
   "cell_type": "code",
   "execution_count": null,
   "metadata": {},
   "outputs": [],
   "source": []
  },
  {
   "cell_type": "markdown",
   "metadata": {},
   "source": [
    "## 1. Import a csv file containing logins of user profiles. "
   ]
  },
  {
   "cell_type": "code",
   "execution_count": 2,
   "metadata": {},
   "outputs": [],
   "source": [
    "### ---- Specify the csv file path before you start -----"
   ]
  },
  {
   "cell_type": "code",
   "execution_count": 36,
   "metadata": {},
   "outputs": [],
   "source": [
    "# please specify the part of the csv file, the 'r' has to be put before the path string\n",
    "path_to_csv = r\"D:\\Drive\\01_Promotion\\31_Code\\01_Python\\Obermeier Starpage scraper\\Repo scraper profiles - v01.csv\" # "
   ]
  },
  {
   "cell_type": "markdown",
   "metadata": {},
   "source": [
    "### -------------------------------------------------------------"
   ]
  },
  {
   "cell_type": "code",
   "execution_count": 37,
   "metadata": {},
   "outputs": [
    {
     "name": "stdout",
     "output_type": "stream",
     "text": [
      "the import file contains 3576 users\n",
      "csv file has been converted to json - you can proceed with step 2\n"
     ]
    }
   ],
   "source": [
    "import csv\n",
    "import json\n",
    "\n",
    "# create a list to copy csv content into\n",
    "user_dict_list = []\n",
    "\n",
    "\n",
    "\n",
    "# open csv file and save it in a list of dictionaries\n",
    "with open(path_to_csv, 'r', encoding='mac_roman') as csvfile:\n",
    "    reader = csv.DictReader(csvfile, delimiter = \",\")\n",
    "    for row in reader:\n",
    "        user_dict_list.append(dict(row))\n",
    "\n",
    "\n",
    "# save list of dict from csv as json\n",
    "# please specify the part where you want to save the json file, the 'r' has to be put before the path string\n",
    "path_to_json_import = r\"D:\\Drive\\01_Promotion\\31_Code\\01_Python\\Obermeier Starpage scraper\\user_names_import_May CompanyName Cleaned.json\"\n",
    "\n",
    "with open(path_to_json_import, \"w\") as json_file:\n",
    "    json.dump(user_dict_list, json_file)\n",
    "\n",
    "\n",
    "print(\"the import file contains\", len(user_dict_list),\"users\")\n",
    "print(\"csv file has been converted to json - you can proceed with step 2\")"
   ]
  },
  {
   "cell_type": "markdown",
   "metadata": {},
   "source": []
  },
  {
   "cell_type": "markdown",
   "metadata": {},
   "source": []
  },
  {
   "cell_type": "markdown",
   "metadata": {},
   "source": []
  },
  {
   "cell_type": "markdown",
   "metadata": {},
   "source": [
    "## 2. Request real user names from Githup API and add it to json file"
   ]
  },
  {
   "cell_type": "markdown",
   "metadata": {},
   "source": [
    "### Before you start step 2 you have to initiate 2 function\n",
    "\n",
    "### Function 1 - get_real_user_names - takes login, username+api token as arguments and returns the real user name corresponding to the login\n",
    "\n",
    "### Function 2 - get_user_change_tokens - takes a login and three usernames/api token combinations as argument and changes the tokens according to the API limit\n",
    "\n",
    "\n",
    "### After you have initiated both functions you can proceed with calling the functions (Run step 2)"
   ]
  },
  {
   "cell_type": "markdown",
   "metadata": {},
   "source": [
    "### Function 1"
   ]
  },
  {
   "cell_type": "code",
   "execution_count": 26,
   "metadata": {},
   "outputs": [],
   "source": [
    "# define function to query real user name from github api\n",
    "def get_real_user_name(login, username, api_token):\n",
    "  \n",
    "    import requests\n",
    "    response = requests.get(url = \"https://api.github.com/users/\"+login, auth=(username,api_token))\n",
    "    data = response.json()\n",
    "    try:\n",
    "        return data[\"name\"]\n",
    "    except:\n",
    "        return \"noname\""
   ]
  },
  {
   "cell_type": "markdown",
   "metadata": {},
   "source": []
  },
  {
   "cell_type": "code",
   "execution_count": 15,
   "metadata": {},
   "outputs": [
    {
     "name": "stdout",
     "output_type": "stream",
     "text": [
      "Kim J. Nordmo\n"
     ]
    }
   ],
   "source": [
    "print(get_real_user_name(\"AdmiringWorm\", \"RomainParracone\", \"ea721bf5aa5325c95c97e8794447cd6228d42745\"))"
   ]
  },
  {
   "cell_type": "code",
   "execution_count": 16,
   "metadata": {},
   "outputs": [
    {
     "name": "stdout",
     "output_type": "stream",
     "text": [
      "Kim J. Nordmo\n"
     ]
    }
   ],
   "source": [
    "print(get_user_change_token(\"AdmiringWorm\", \"RomainParracone\", \"ea721bf5aa5325c95c97e8794447cd6228d42745\", \"michiv90\",\"64434665b777b5a18ec2ad698bc1a9a517db3cf8\", \"DanielObermeier\", \"f8dda73f3fdc9547f93d377b618ba3aea864e100\"))"
   ]
  },
  {
   "cell_type": "code",
   "execution_count": 27,
   "metadata": {},
   "outputs": [],
   "source": [
    "user_1 = \"RomainParracone\"\n",
    "user_2 = \"michiv90\"\n",
    "user_3 = \"DanielObermeier\"\n",
    "api_token_1 = \"ea721bf5aa5325c95c97e8794447cd6228d42745\"\n",
    "api_token_2 = \"64434665b777b5a18ec2ad698bc1a9a517db3cf8\"\n",
    "api_token_3 = \"f8dda73f3fdc9547f93d377b618ba3aea864e100\""
   ]
  },
  {
   "cell_type": "markdown",
   "metadata": {},
   "source": []
  },
  {
   "cell_type": "markdown",
   "metadata": {},
   "source": [
    "### Function 2"
   ]
  },
  {
   "cell_type": "code",
   "execution_count": 38,
   "metadata": {},
   "outputs": [],
   "source": [
    "# define function that changes api tokens based on rate limit and calls get_real_user_name function with login \n",
    "\n",
    "def get_user_change_token(login, user_1, api_token_1, user_2, api_token_2, user_3, api_token_3): #add time of overall function to reduce waiting time \n",
    "\n",
    "    import time\n",
    "    import requests\n",
    "    import ast\n",
    "\n",
    "\n",
    "    # request githup api rate limit\n",
    "    response_1 = requests.get(url = \"https://api.github.com/rate_limit\", auth=(user_1,api_token_1))\n",
    "    result_1 = ast.literal_eval(response_1.text)\n",
    "\n",
    "    response_2 = requests.get(url = \"https://api.github.com/rate_limit\", auth=(user_2,api_token_2))\n",
    "    result_2 = ast.literal_eval(response_2.text)\n",
    "\n",
    "    response_3 = requests.get(url = \"https://api.github.com/rate_limit\", auth=(user_3,api_token_3))\n",
    "    result_3 = ast.literal_eval(response_3.text)\n",
    "\n",
    "    #store rate limits in variables\n",
    "    remaining_1 = result_1[\"resources\"][\"core\"][\"remaining\"]\n",
    "    remaining_2 = result_2[\"resources\"][\"core\"][\"remaining\"]\n",
    "    remaining_3 = result_3[\"resources\"][\"core\"][\"remaining\"]\n",
    "    \n",
    "    \n",
    "    # iterate through rate limits and look for unreached limit\n",
    "    while True:\n",
    "        # check limit and use token 1\n",
    "        if remaining_1 > 0:  \n",
    "            return get_real_user_name(login, user_1, api_token_1)\n",
    "            break\n",
    "\n",
    "        # check limit and use token 2\n",
    "        elif remaining_2 > 0:  \n",
    "            return get_real_user_name(login, user_2, api_token_2)\n",
    "            break\n",
    "\n",
    "        # check limit and use token 3\n",
    "        elif remaining_3 > 0:  \n",
    "            return get_real_user_name(login, user_3, api_token_3)\n",
    "            break\n",
    "\n",
    "        # if rate limit of all three keys has been rearch, wait 10 min and try again. \n",
    "        else:\n",
    "            print(\"program waits for 60s... untill it starts again\")\n",
    "            time.sleep(60)\n",
    "\n",
    "    return print(\"no user name could be queried... program has stopped\")\n",
    "\n"
   ]
  },
  {
   "cell_type": "markdown",
   "metadata": {},
   "source": []
  },
  {
   "cell_type": "markdown",
   "metadata": {},
   "source": []
  },
  {
   "cell_type": "markdown",
   "metadata": {},
   "source": []
  },
  {
   "cell_type": "markdown",
   "metadata": {},
   "source": []
  },
  {
   "cell_type": "markdown",
   "metadata": {},
   "source": [
    "### Run step 2"
   ]
  },
  {
   "cell_type": "code",
   "execution_count": 34,
   "metadata": {},
   "outputs": [],
   "source": [
    "# indicate 3 different user names+api tokens \n",
    "user_1 = \"RomainParracone\"\n",
    "user_2 = \"michiv90\"\n",
    "user_3 = \"DanielObermeier\"\n",
    "api_token_1 = \"ea721bf5aa5325c95c97e8794447cd6228d42745\"\n",
    "api_token_2 = \"64434665b777b5a18ec2ad698bc1a9a517db3cf8\"\n",
    "api_token_3 = \"f8dda73f3fdc9547f93d377b618ba3aea864e100\"\n"
   ]
  },
  {
   "cell_type": "code",
   "execution_count": 39,
   "metadata": {},
   "outputs": [
    {
     "name": "stdout",
     "output_type": "stream",
     "text": [
      "0 users have already been queried\n",
      "autosave completed\n",
      "autosave completed\n",
      "autosave completed\n",
      "All real user names have been collected\n"
     ]
    }
   ],
   "source": [
    "# this cell first creates a list of already queried users [list]\n",
    "# then it checks which users have not been queried yet, queries the api, and adds it to the result list [list]\n",
    "\n",
    "# create a list of already queried user names, if this file does not exist yet (e.g. first start), list will be empty\n",
    "queried_users_list = [] # already queried user list [list]\n",
    "result_list = []        # result list [list]\n",
    "counter = 0\n",
    "\n",
    "\n",
    "# import get\n",
    "\n",
    "path_to_json_import = r\"D:\\Drive\\01_Promotion\\31_Code\\01_Python\\Obermeier Starpage scraper\\user_names_import.json\"\n",
    "path_to_json_result = r\"D:\\Drive\\01_Promotion\\31_Code\\01_Python\\Obermeier Starpage scraper\\user_names_queried.json\"\n",
    "\n",
    "try:\n",
    "    with open(path_to_json_result,\"r\") as json_file:\n",
    "        queried_data = json.load(json_file)\n",
    "        for user in queried_data:\n",
    "            already_queried_key = user[\"login\"]+user[\"company\"]\n",
    "            queried_users_list.append(already_queried_key)\n",
    "            result_list.append(user)\n",
    "            counter += 1\n",
    "\n",
    "except:\n",
    "    queried_users_list = []\n",
    "\n",
    "print(counter, \"users have already been queried\")\n",
    "\n",
    "\n",
    "autosave = 0 # counter to auto save every 1000 API requests \n",
    "\n",
    "# open imported dataset\n",
    "with open(path_to_json_import,\"r\") as json_file:\n",
    "    initial_data = json.load(json_file)\n",
    "    for user in initial_data:\n",
    "        check_already_queried_key = user[\"login\"]+user[\"company\"]\n",
    "        # only query users which have not been queried before\n",
    "        if check_already_queried_key not in queried_users_list:\n",
    "            user[\"real_user_name\"] = get_user_change_token(user[\"login\"], user_1, api_token_1, user_2, api_token_2, user_3, api_token_3)            \n",
    "            # append new real user name to result list\n",
    "            result_list.append(user)\n",
    "\n",
    "            # increment autsave counter\n",
    "            autosave +=1\n",
    "\n",
    "\n",
    "        # autosave after 1000 API requests \n",
    "        if autosave == 1000:\n",
    "            \n",
    "            autosave = 0 # reset autosave counter\n",
    "            with open(path_to_json_result, \"w\") as json_file:\n",
    "                json.dump(result_list, json_file)\n",
    "            print(\"autosave completed\")\n",
    "\n",
    "\n",
    "# save results to already queried dataset\n",
    "with open(path_to_json_result, \"w\") as json_file:\n",
    "    json.dump(result_list, json_file)\n",
    "\n",
    "\n",
    "print(\"All real user names have been collected\")"
   ]
  },
  {
   "cell_type": "code",
   "execution_count": 16,
   "metadata": {},
   "outputs": [],
   "source": [
    "\n"
   ]
  },
  {
   "cell_type": "code",
   "execution_count": null,
   "metadata": {},
   "outputs": [],
   "source": [
    "# check API limit\n",
    "# test to get the rate limit\n",
    "\n",
    "import requests\n",
    "import ast\n",
    "\n",
    "username = \"RomainParracone\"\n",
    "api_token = \"ea721bf5aa5325c95c97e8794447cd6228d42745\"\n",
    "\n",
    "response = requests.get(url = \"https://api.github.com/rate_limit\", auth=(username,api_token))\n",
    "\n",
    "test = ast.literal_eval(response.text)\n",
    "print(test[\"resources\"][\"core\"])\n",
    "print(test[\"resources\"][\"core\"][\"limit\"])"
   ]
  },
  {
   "cell_type": "code",
   "execution_count": null,
   "metadata": {},
   "outputs": [],
   "source": []
  },
  {
   "cell_type": "code",
   "execution_count": null,
   "metadata": {},
   "outputs": [],
   "source": []
  }
 ],
 "metadata": {
  "file_extension": ".py",
  "kernelspec": {
   "display_name": "Python 3",
   "language": "python",
   "name": "python3"
  },
  "language_info": {
   "codemirror_mode": {
    "name": "ipython",
    "version": 3
   },
   "file_extension": ".py",
   "mimetype": "text/x-python",
   "name": "python",
   "nbconvert_exporter": "python",
   "pygments_lexer": "ipython3",
   "version": "3.7.4"
  },
  "mimetype": "text/x-python",
  "name": "python",
  "npconvert_exporter": "python",
  "pygments_lexer": "ipython3",
  "version": 3
 },
 "nbformat": 4,
 "nbformat_minor": 2
}
